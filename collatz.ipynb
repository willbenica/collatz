{
 "metadata": {
  "language_info": {
   "codemirror_mode": {
    "name": "ipython",
    "version": 3
   },
   "file_extension": ".py",
   "mimetype": "text/x-python",
   "name": "python",
   "nbconvert_exporter": "python",
   "pygments_lexer": "ipython3",
   "version": "3.9.2-final"
  },
  "orig_nbformat": 2,
  "kernelspec": {
   "name": "python3",
   "display_name": "Python 3.9.2 64-bit",
   "metadata": {
    "interpreter": {
     "hash": "aee8b7b246df8f9039afb4144a1f6fd8d2ca17a180786b69acc140d282b71a49"
    }
   }
  }
 },
 "nbformat": 4,
 "nbformat_minor": 2,
 "cells": [
  {
   "source": [
    "## Collatz Conjecture\n",
    "\n",
    "\n",
    "$$\n",
    "a_{n} = \\begin{cases} \n",
    "\\frac{1}{2} a_{n-1}  &\\text{for} \\quad a_{n-1} \\quad \\text{even} \\\\ \n",
    "3 a_{n-1} +1 &\\text{for} \\quad a_{n-1} \\quad \\text{odd} \\end{cases}\n",
    "$$\n",
    "\n",
    "\n",
    "\n",
    "For more information see [Wolfram MathWorld](https://mathworld.wolfram.com/CollatzProblem.html)"
   ],
   "cell_type": "markdown",
   "metadata": {}
  },
  {
   "source": [
    "def collatz_series(series_as_list, n, iteration=0):\n",
    "    # Base cases: if n = 0\n",
    "    #             if n = 1 (things repeat after there)\n",
    "    #             if n = -1 (this will repeat) \n",
    "    #             if n = -5 (things repeat differently)\n",
    "    #             if n = -17 (things repeat differnetly again)\n",
    "    \n",
    "    # Number of iterations until we reach the base case\n",
    "    iteration += 1\n",
    "    \n",
    "    # Base cases:\n",
    "    # We can only land here if we start with n=0\n",
    "    if n == 0:\n",
    "        series_as_list = [0]\n",
    "        return series_as_list, n, iteration\n",
    "    # It's my assumption that all postivie n's will land here\n",
    "    elif n == 1:\n",
    "        # Handle if we start at n=1\n",
    "        if len(series_as_list) == 1:\n",
    "            series_as_list += [4, 2, 1]\n",
    "            iteration = len(series_as_list) -1\n",
    "        iteration = len(series_as_list) - 1\n",
    "        return series_as_list, n, iteration\n",
    "    elif n == -1:\n",
    "        # Hanlde starting at n=-1\n",
    "        if len(series_as_list) == 1:\n",
    "            series_as_list += [-2, -1]\n",
    "            iteration = len(series_as_list) -1\n",
    "        iteration = len(series_as_list) - 1\n",
    "        return series_as_list, n, iteration\n",
    "    elif n == -5:\n",
    "        # Handle starting at n=-5\n",
    "        if len(series_as_list) == 1:\n",
    "            series_as_list += [-14, -7, -20, -10, -5]\n",
    "            iteration = len(series_as_list) - 1\n",
    "        iteration = len(series_as_list) - 1\n",
    "        return series_as_list, n, iteration\n",
    "    elif n == -17:\n",
    "        # Handle starting at -17\n",
    "        if len(series_as_list) == 1:\n",
    "            series_as_list += [-50, -25, -74, -37, -110, -55, -164, -82, -41, -122, -61, -182, -91, -272, -136, -68, -34, -17]\n",
    "            iteration = len(series_as_list) -1\n",
    "        iteration = len(series_as_list) - 1\n",
    "        return series_as_list, n, iteration\n",
    "    # Recursive cases\n",
    "    # If n is even...\n",
    "    elif n % 2 == 0:\n",
    "        n = n // 2\n",
    "        series_as_list.append(n)\n",
    "        iteration = len(series_as_list) - 1\n",
    "        return collatz_series(series_as_list, n, iteration)\n",
    "    else:\n",
    "        n = (n * 3) + 1\n",
    "        series_as_list.append(n)\n",
    "        iteration = len(series_as_list) - 1\n",
    "        return collatz_series(series_as_list, n, iteration)\n",
    "\n",
    "\n",
    "\n",
    "l_numbers = [[x] for x in range(20, -20, -1)]\n",
    "for element in l_numbers:\n",
    "    n = element[0]\n",
    "    x, y, z = collatz_series(element, element[0])\n",
    "    print(f\"n: {n} -> iterations: {z} -> series: {x}\")"
   ],
   "cell_type": "code",
   "metadata": {
    "tags": []
   },
   "execution_count": 1,
   "outputs": [
    {
     "output_type": "stream",
     "name": "stdout",
     "text": [
      "n: 20 -> iterations: 7 -> series: [20, 10, 5, 16, 8, 4, 2, 1]\nn: 19 -> iterations: 20 -> series: [19, 58, 29, 88, 44, 22, 11, 34, 17, 52, 26, 13, 40, 20, 10, 5, 16, 8, 4, 2, 1]\nn: 18 -> iterations: 20 -> series: [18, 9, 28, 14, 7, 22, 11, 34, 17, 52, 26, 13, 40, 20, 10, 5, 16, 8, 4, 2, 1]\nn: 17 -> iterations: 12 -> series: [17, 52, 26, 13, 40, 20, 10, 5, 16, 8, 4, 2, 1]\nn: 16 -> iterations: 4 -> series: [16, 8, 4, 2, 1]\nn: 15 -> iterations: 17 -> series: [15, 46, 23, 70, 35, 106, 53, 160, 80, 40, 20, 10, 5, 16, 8, 4, 2, 1]\nn: 14 -> iterations: 17 -> series: [14, 7, 22, 11, 34, 17, 52, 26, 13, 40, 20, 10, 5, 16, 8, 4, 2, 1]\nn: 13 -> iterations: 9 -> series: [13, 40, 20, 10, 5, 16, 8, 4, 2, 1]\nn: 12 -> iterations: 9 -> series: [12, 6, 3, 10, 5, 16, 8, 4, 2, 1]\nn: 11 -> iterations: 14 -> series: [11, 34, 17, 52, 26, 13, 40, 20, 10, 5, 16, 8, 4, 2, 1]\nn: 10 -> iterations: 6 -> series: [10, 5, 16, 8, 4, 2, 1]\nn: 9 -> iterations: 19 -> series: [9, 28, 14, 7, 22, 11, 34, 17, 52, 26, 13, 40, 20, 10, 5, 16, 8, 4, 2, 1]\nn: 8 -> iterations: 3 -> series: [8, 4, 2, 1]\nn: 7 -> iterations: 16 -> series: [7, 22, 11, 34, 17, 52, 26, 13, 40, 20, 10, 5, 16, 8, 4, 2, 1]\nn: 6 -> iterations: 8 -> series: [6, 3, 10, 5, 16, 8, 4, 2, 1]\nn: 5 -> iterations: 5 -> series: [5, 16, 8, 4, 2, 1]\nn: 4 -> iterations: 2 -> series: [4, 2, 1]\nn: 3 -> iterations: 7 -> series: [3, 10, 5, 16, 8, 4, 2, 1]\nn: 2 -> iterations: 1 -> series: [2, 1]\nn: 1 -> iterations: 3 -> series: [1, 4, 2, 1]\nn: 0 -> iterations: 1 -> series: [0]\nn: -1 -> iterations: 2 -> series: [-1, -2, -1]\nn: -2 -> iterations: 1 -> series: [-2, -1]\nn: -3 -> iterations: 4 -> series: [-3, -8, -4, -2, -1]\nn: -4 -> iterations: 2 -> series: [-4, -2, -1]\nn: -5 -> iterations: 5 -> series: [-5, -14, -7, -20, -10, -5]\nn: -6 -> iterations: 5 -> series: [-6, -3, -8, -4, -2, -1]\nn: -7 -> iterations: 3 -> series: [-7, -20, -10, -5]\nn: -8 -> iterations: 3 -> series: [-8, -4, -2, -1]\nn: -9 -> iterations: 11 -> series: [-9, -26, -13, -38, -19, -56, -28, -14, -7, -20, -10, -5]\nn: -10 -> iterations: 1 -> series: [-10, -5]\nn: -11 -> iterations: 6 -> series: [-11, -32, -16, -8, -4, -2, -1]\nn: -12 -> iterations: 6 -> series: [-12, -6, -3, -8, -4, -2, -1]\nn: -13 -> iterations: 9 -> series: [-13, -38, -19, -56, -28, -14, -7, -20, -10, -5]\nn: -14 -> iterations: 4 -> series: [-14, -7, -20, -10, -5]\nn: -15 -> iterations: 9 -> series: [-15, -44, -22, -11, -32, -16, -8, -4, -2, -1]\nn: -16 -> iterations: 4 -> series: [-16, -8, -4, -2, -1]\nn: -17 -> iterations: 18 -> series: [-17, -50, -25, -74, -37, -110, -55, -164, -82, -41, -122, -61, -182, -91, -272, -136, -68, -34, -17]\nn: -18 -> iterations: 12 -> series: [-18, -9, -26, -13, -38, -19, -56, -28, -14, -7, -20, -10, -5]\nn: -19 -> iterations: 7 -> series: [-19, -56, -28, -14, -7, -20, -10, -5]\n"
     ]
    }
   ]
  },
  {
   "cell_type": "code",
   "execution_count": null,
   "metadata": {},
   "outputs": [],
   "source": []
  }
 ]
}