{
 "metadata": {
  "language_info": {
   "codemirror_mode": {
    "name": "ipython",
    "version": 3
   },
   "file_extension": ".py",
   "mimetype": "text/x-python",
   "name": "python",
   "nbconvert_exporter": "python",
   "pygments_lexer": "ipython3",
   "version": "3.9.2-final"
  },
  "orig_nbformat": 2,
  "kernelspec": {
   "name": "python3",
   "display_name": "Python 3.9.2 64-bit",
   "metadata": {
    "interpreter": {
     "hash": "aee8b7b246df8f9039afb4144a1f6fd8d2ca17a180786b69acc140d282b71a49"
    }
   }
  }
 },
 "nbformat": 4,
 "nbformat_minor": 2,
 "cells": [
  {
   "source": [
    "## Collatz Conjecture\n",
    "\n",
    "\n",
    "$$\n",
    "a_{n} = \\begin{cases} \n",
    "\\frac{1}{2} a_{n-1}  &\\text{for} \\quad a_{n-1} \\quad \\text{even} \\\\ \n",
    "3 a_{n-1} +1 &\\text{for} \\quad a_{n-1} \\quad \\text{odd} \\end{cases}\n",
    "$$\n",
    "\n",
    "\n",
    "\n",
    "For more information see [Wolfram MathWorld](https://mathworld.wolfram.com/CollatzProblem.html)"
   ],
   "cell_type": "markdown",
   "metadata": {}
  },
  {
   "source": [
    "def collatz_series(series_as_list, n, iteration=0):\n",
    "    # Base cases: if n = 0\n",
    "    #             if n = 1 (things repeat after there)\n",
    "    #             if n = -1 (this will repeat) \n",
    "    #             if n = -5 (things repeat differently)\n",
    "    #             if n = -17 (things repeat differnetly again)\n",
    "    \n",
    "    # Number of iterations until we reach the base case\n",
    "    iteration += 1\n",
    "    \n",
    "    # Base cases:\n",
    "    # We can only land here if we start with n=0\n",
    "    if n == 0:\n",
    "        series_as_list = [0]\n",
    "        return series_as_list, n, iteration\n",
    "    # It's my assumption that all postivie n's will land here\n",
    "    elif n == 1:\n",
    "        # Handle if we start at n=1\n",
    "        if len(series_as_list) == 1:\n",
    "            series_as_list += [4, 2, 1]\n",
    "            iteration = len(series_as_list) -1\n",
    "        iteration = len(series_as_list) - 1\n",
    "        return series_as_list, n, iteration\n",
    "    elif n == -1:\n",
    "        # Hanlde starting at n=-1\n",
    "        if len(series_as_list) == 1:\n",
    "            series_as_list += [-2, -1]\n",
    "            iteration = len(series_as_list) -1\n",
    "        iteration = len(series_as_list) - 1\n",
    "        return series_as_list, n, iteration\n",
    "    elif n == -5:\n",
    "        # Handle starting at n=-5\n",
    "        if len(series_as_list) == 1:\n",
    "            series_as_list += [-14, -7, -20, -10, -5]\n",
    "            iteration = len(series_as_list) - 1\n",
    "        iteration = len(series_as_list) - 1\n",
    "        return series_as_list, n, iteration\n",
    "    elif n == -17:\n",
    "        # Handle starting at -17\n",
    "        if len(series_as_list) == 1:\n",
    "            series_as_list += [-50, -25, -74, -37, -110, -55, -164, -82, -41, -122, -61, -182, -91, -272, -136, -68, -34, -17]\n",
    "            iteration = len(series_as_list) -1\n",
    "        iteration = len(series_as_list) - 1\n",
    "        return series_as_list, n, iteration\n",
    "    # Recursive cases\n",
    "    # If n is even...\n",
    "    elif n % 2 == 0:\n",
    "        n = n // 2\n",
    "        series_as_list.append(n)\n",
    "        iteration = len(series_as_list) - 1\n",
    "        return collatz_series(series_as_list, n, iteration)\n",
    "    else:\n",
    "        n = (n * 3) + 1\n",
    "        series_as_list.append(n)\n",
    "        iteration = len(series_as_list) - 1\n",
    "        return collatz_series(series_as_list, n, iteration)\n",
    "\n",
    "\n",
    "\n",
    "l_numbers = [[x] for x in range(1000, -1000, -1)]\n",
    "for element in l_numbers:\n",
    "    n = element[0]\n",
    "    x, y, z = collatz_series(element, element[0])\n",
    "    print(f\"n: {n} -> iterations: {z} -> series: {x}\")"
   ],
   "cell_type": "code",
   "metadata": {
    "tags": [
     "outputPrepend"
    ]
   },
   "execution_count": null,
   "outputs": []
  },
  {
   "cell_type": "code",
   "execution_count": null,
   "metadata": {},
   "outputs": [],
   "source": []
  }
 ]
}